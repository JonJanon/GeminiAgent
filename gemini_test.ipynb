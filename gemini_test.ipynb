{
 "cells": [
  {
   "cell_type": "code",
   "execution_count": 2,
   "metadata": {},
   "outputs": [
    {
     "name": "stdout",
     "output_type": "stream",
     "text": [
      "Note: you may need to restart the kernel to use updated packages.\n"
     ]
    }
   ],
   "source": [
    "%pip install -q -U google-generativeai"
   ]
  },
  {
   "cell_type": "code",
   "execution_count": 14,
   "metadata": {},
   "outputs": [],
   "source": [
    "import pathlib\n",
    "import textwrap\n",
    "\n",
    "import google.generativeai as genai\n",
    "\n",
    "from IPython.display import display\n",
    "from IPython.display import Markdown\n",
    "\n",
    "\n",
    "def to_markdown(text):\n",
    "  text = text.replace('•', '*')\n",
    "  return Markdown(textwrap.indent(text, '> ', predicate=lambda _: True))\n"
   ]
  },
  {
   "cell_type": "code",
   "execution_count": null,
   "metadata": {},
   "outputs": [],
   "source": [
    "import gc"
   ]
  },
  {
   "cell_type": "code",
   "execution_count": 3,
   "metadata": {},
   "outputs": [],
   "source": [
    "import os\n",
    "GOOGLE_API_KEY = os.getenv(\"GOOGLE_API_KEY\")\n",
    "genai.configure(api_key=GOOGLE_API_KEY)\n"
   ]
  },
  {
   "cell_type": "code",
   "execution_count": 5,
   "metadata": {},
   "outputs": [
    {
     "name": "stdout",
     "output_type": "stream",
     "text": [
      "models/gemini-1.0-pro\n",
      "models/gemini-1.0-pro-001\n",
      "models/gemini-1.0-pro-latest\n",
      "models/gemini-1.0-pro-vision-latest\n",
      "models/gemini-1.5-pro-latest\n",
      "models/gemini-pro\n",
      "models/gemini-pro-vision\n",
      "\n",
      "models/chat-bison-001\n",
      "models/text-bison-001\n",
      "models/embedding-gecko-001\n",
      "models/gemini-1.0-pro\n",
      "models/gemini-1.0-pro-001\n",
      "models/gemini-1.0-pro-latest\n",
      "models/gemini-1.0-pro-vision-latest\n",
      "models/gemini-1.5-pro-latest\n",
      "models/gemini-pro\n",
      "models/gemini-pro-vision\n",
      "models/embedding-001\n",
      "models/text-embedding-004\n",
      "models/aqa\n"
     ]
    }
   ],
   "source": [
    "for m in genai.list_models():\n",
    "  if 'generateContent' in m.supported_generation_methods:\n",
    "    print(m.name)\n",
    "\n",
    "print('')\n",
    "\n",
    "for m in genai.list_models():\n",
    "  print(m.name)"
   ]
  },
  {
   "cell_type": "code",
   "execution_count": 7,
   "metadata": {},
   "outputs": [],
   "source": [
    "model = genai.GenerativeModel('gemini-pro')"
   ]
  },
  {
   "cell_type": "code",
   "execution_count": 26,
   "metadata": {},
   "outputs": [
    {
     "data": {
      "text/markdown": [
       "> * Sunday\n",
       "> * Saturday\n",
       "> * Friday\n",
       "> * Thursday\n",
       "> * Wednesday\n",
       "> * Tuesday\n",
       "> * Monday"
      ],
      "text/plain": [
       "<IPython.core.display.Markdown object>"
      ]
     },
     "execution_count": 26,
     "metadata": {},
     "output_type": "execute_result"
    }
   ],
   "source": [
    "response = model.generate_content('what are the days of the week reversed')\n",
    "\n",
    "to_markdown(response.text)\n"
   ]
  },
  {
   "cell_type": "code",
   "execution_count": 29,
   "metadata": {},
   "outputs": [
    {
     "data": {
      "text/plain": [
       "[index: 0\n",
       "content {\n",
       "  parts {\n",
       "    text: \"* Sunday\\n* Saturday\\n* Friday\\n* Thursday\\n* Wednesday\\n* Tuesday\\n* Monday\"\n",
       "  }\n",
       "  role: \"model\"\n",
       "}\n",
       "finish_reason: STOP\n",
       "safety_ratings {\n",
       "  category: HARM_CATEGORY_SEXUALLY_EXPLICIT\n",
       "  probability: NEGLIGIBLE\n",
       "}\n",
       "safety_ratings {\n",
       "  category: HARM_CATEGORY_HATE_SPEECH\n",
       "  probability: NEGLIGIBLE\n",
       "}\n",
       "safety_ratings {\n",
       "  category: HARM_CATEGORY_HARASSMENT\n",
       "  probability: NEGLIGIBLE\n",
       "}\n",
       "safety_ratings {\n",
       "  category: HARM_CATEGORY_DANGEROUS_CONTENT\n",
       "  probability: NEGLIGIBLE\n",
       "}\n",
       "]"
      ]
     },
     "execution_count": 29,
     "metadata": {},
     "output_type": "execute_result"
    }
   ],
   "source": [
    "response.candidates"
   ]
  },
  {
   "cell_type": "code",
   "execution_count": 31,
   "metadata": {},
   "outputs": [
    {
     "name": "stdout",
     "output_type": "stream",
     "text": [
      "**Physical Characteristics:**\n",
      "\n",
      "* **Size:** Dogs are generally larger than cats,\n",
      "________________________________________________________________________________\n",
      " with some breeds weighing over 100 lbs, while most cats weigh under 20 lbs.\n",
      "* **Shape:** Dogs have a more robust build\n",
      "________________________________________________________________________________\n",
      " with longer legs, while cats are more slender and agile with shorter legs.\n",
      "* **Fur:** Dogs have a wide range of fur types, from short to long and curly to straight. Cats typically have shorter, softer fur.\n",
      "* **Ears:** Dogs have floppy or semi-erect ears, while cats\n",
      "________________________________________________________________________________\n",
      " have pointy, upright ears.\n",
      "* **Tail:** Dogs have long, wagging tails, while cats have shorter, more flexible tails.\n",
      "\n",
      "**Behavioral Characteristics:**\n",
      "\n",
      "* **Sociability:** Dogs are typically more social than cats and enjoy interacting with humans and other animals. Cats are more solitary and prefer to spend time alone.\n",
      "* **Activity Level:** Dogs are more active than cats and require regular exercise. Cats are more content to nap and play independently.\n",
      "* **Intelligence:** Both dogs and cats are intelligent, but they learn in different ways. Dogs are more obedient and eager to please, while cats are more independent and curious\n",
      "________________________________________________________________________________\n",
      ".\n",
      "* **Vocalization:** Dogs are more vocal than cats and communicate through barking, howling, and whining. Cats meow, purr, and hiss to express their emotions.\n",
      "* **Litter Training:** Cats are typically easier to litter train than dogs, as they have a natural instinct to bury their waste.\n",
      "\n",
      "**Other Key Differences:**\n",
      "\n",
      "* **Diet:** Dogs are omnivores, while cats are obligate carnivores, meaning they require meat in their diet.\n",
      "* **Grooming:** Dogs need regular brushing and occasional baths. Cats are self-grooming and require less maintenance.\n",
      "* **Veterinary Care:** Dogs typically have shorter lifespans and require more frequent veterinary visits than cats.\n",
      "* **Cost of Ownership:** The cost of owning a dog is generally higher than owning a cat due to higher food, veterinary, and grooming expenses.\n",
      "________________________________________________________________________________\n"
     ]
    }
   ],
   "source": [
    "response = model.generate_content('what is the difference between a cat and a dog?', stream=True)\n",
    "\n",
    "for chunk in response:\n",
    "  print(chunk.text)\n",
    "  print(\"_\"*80)"
   ]
  }
 ],
 "metadata": {
  "kernelspec": {
   "display_name": "Python 3",
   "language": "python",
   "name": "python3"
  },
  "language_info": {
   "codemirror_mode": {
    "name": "ipython",
    "version": 3
   },
   "file_extension": ".py",
   "mimetype": "text/x-python",
   "name": "python",
   "nbconvert_exporter": "python",
   "pygments_lexer": "ipython3",
   "version": "3.11.5"
  }
 },
 "nbformat": 4,
 "nbformat_minor": 2
}
